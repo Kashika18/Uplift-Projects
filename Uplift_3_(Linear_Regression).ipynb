{
  "nbformat": 4,
  "nbformat_minor": 0,
  "metadata": {
    "colab": {
      "name": "Uplift_3 (Linear Regression).ipynb",
      "provenance": [],
      "include_colab_link": true
    },
    "kernelspec": {
      "name": "python3",
      "display_name": "Python 3"
    },
    "language_info": {
      "name": "python"
    }
  },
  "cells": [
    {
      "cell_type": "markdown",
      "metadata": {
        "id": "view-in-github",
        "colab_type": "text"
      },
      "source": [
        "<a href=\"https://colab.research.google.com/github/Kashika18/Uplift-Projects/blob/main/Uplift_3_(Linear_Regression).ipynb\" target=\"_parent\"><img src=\"https://colab.research.google.com/assets/colab-badge.svg\" alt=\"Open In Colab\"/></a>"
      ]
    },
    {
      "cell_type": "code",
      "metadata": {
        "id": "6qTgNnX07yOw"
      },
      "source": [
        "import pandas as pd\n",
        "import numpy as np\n",
        "from sklearn.linear_model import LinearRegression"
      ],
      "execution_count": null,
      "outputs": []
    },
    {
      "cell_type": "code",
      "metadata": {
        "id": "_wlQYORn8I7m"
      },
      "source": [
        "df= pd.read_csv('50_Startups.csv')"
      ],
      "execution_count": null,
      "outputs": []
    },
    {
      "cell_type": "code",
      "metadata": {
        "colab": {
          "base_uri": "https://localhost:8080/",
          "height": 203
        },
        "id": "R0Gspwru8KN3",
        "outputId": "94f1edca-4065-4a8f-8f6c-ac16148e376a"
      },
      "source": [
        "df.head()"
      ],
      "execution_count": null,
      "outputs": [
        {
          "output_type": "execute_result",
          "data": {
            "text/html": [
              "<div>\n",
              "<style scoped>\n",
              "    .dataframe tbody tr th:only-of-type {\n",
              "        vertical-align: middle;\n",
              "    }\n",
              "\n",
              "    .dataframe tbody tr th {\n",
              "        vertical-align: top;\n",
              "    }\n",
              "\n",
              "    .dataframe thead th {\n",
              "        text-align: right;\n",
              "    }\n",
              "</style>\n",
              "<table border=\"1\" class=\"dataframe\">\n",
              "  <thead>\n",
              "    <tr style=\"text-align: right;\">\n",
              "      <th></th>\n",
              "      <th>R&amp;D Spend</th>\n",
              "      <th>Administration</th>\n",
              "      <th>Marketing Spend</th>\n",
              "      <th>State</th>\n",
              "      <th>Profit</th>\n",
              "    </tr>\n",
              "  </thead>\n",
              "  <tbody>\n",
              "    <tr>\n",
              "      <th>0</th>\n",
              "      <td>165349.20</td>\n",
              "      <td>136897.80</td>\n",
              "      <td>471784.10</td>\n",
              "      <td>New York</td>\n",
              "      <td>192261.83</td>\n",
              "    </tr>\n",
              "    <tr>\n",
              "      <th>1</th>\n",
              "      <td>162597.70</td>\n",
              "      <td>151377.59</td>\n",
              "      <td>443898.53</td>\n",
              "      <td>California</td>\n",
              "      <td>191792.06</td>\n",
              "    </tr>\n",
              "    <tr>\n",
              "      <th>2</th>\n",
              "      <td>153441.51</td>\n",
              "      <td>101145.55</td>\n",
              "      <td>407934.54</td>\n",
              "      <td>Florida</td>\n",
              "      <td>191050.39</td>\n",
              "    </tr>\n",
              "    <tr>\n",
              "      <th>3</th>\n",
              "      <td>144372.41</td>\n",
              "      <td>118671.85</td>\n",
              "      <td>383199.62</td>\n",
              "      <td>New York</td>\n",
              "      <td>182901.99</td>\n",
              "    </tr>\n",
              "    <tr>\n",
              "      <th>4</th>\n",
              "      <td>142107.34</td>\n",
              "      <td>91391.77</td>\n",
              "      <td>366168.42</td>\n",
              "      <td>Florida</td>\n",
              "      <td>166187.94</td>\n",
              "    </tr>\n",
              "  </tbody>\n",
              "</table>\n",
              "</div>"
            ],
            "text/plain": [
              "   R&D Spend  Administration  Marketing Spend       State     Profit\n",
              "0  165349.20       136897.80        471784.10    New York  192261.83\n",
              "1  162597.70       151377.59        443898.53  California  191792.06\n",
              "2  153441.51       101145.55        407934.54     Florida  191050.39\n",
              "3  144372.41       118671.85        383199.62    New York  182901.99\n",
              "4  142107.34        91391.77        366168.42     Florida  166187.94"
            ]
          },
          "metadata": {
            "tags": []
          },
          "execution_count": 412
        }
      ]
    },
    {
      "cell_type": "code",
      "metadata": {
        "colab": {
          "base_uri": "https://localhost:8080/",
          "height": 203
        },
        "id": "EDd1HK7JHS6K",
        "outputId": "a127f51c-97dd-4bc8-8d71-141189cd82df"
      },
      "source": [
        "from sklearn.preprocessing import LabelEncoder\n",
        "df['State'] = df[['State']].apply(LabelEncoder().fit_transform)\n",
        "df.head()"
      ],
      "execution_count": null,
      "outputs": [
        {
          "output_type": "execute_result",
          "data": {
            "text/html": [
              "<div>\n",
              "<style scoped>\n",
              "    .dataframe tbody tr th:only-of-type {\n",
              "        vertical-align: middle;\n",
              "    }\n",
              "\n",
              "    .dataframe tbody tr th {\n",
              "        vertical-align: top;\n",
              "    }\n",
              "\n",
              "    .dataframe thead th {\n",
              "        text-align: right;\n",
              "    }\n",
              "</style>\n",
              "<table border=\"1\" class=\"dataframe\">\n",
              "  <thead>\n",
              "    <tr style=\"text-align: right;\">\n",
              "      <th></th>\n",
              "      <th>R&amp;D Spend</th>\n",
              "      <th>Administration</th>\n",
              "      <th>Marketing Spend</th>\n",
              "      <th>State</th>\n",
              "      <th>Profit</th>\n",
              "    </tr>\n",
              "  </thead>\n",
              "  <tbody>\n",
              "    <tr>\n",
              "      <th>0</th>\n",
              "      <td>165349.20</td>\n",
              "      <td>136897.80</td>\n",
              "      <td>471784.10</td>\n",
              "      <td>2</td>\n",
              "      <td>192261.83</td>\n",
              "    </tr>\n",
              "    <tr>\n",
              "      <th>1</th>\n",
              "      <td>162597.70</td>\n",
              "      <td>151377.59</td>\n",
              "      <td>443898.53</td>\n",
              "      <td>0</td>\n",
              "      <td>191792.06</td>\n",
              "    </tr>\n",
              "    <tr>\n",
              "      <th>2</th>\n",
              "      <td>153441.51</td>\n",
              "      <td>101145.55</td>\n",
              "      <td>407934.54</td>\n",
              "      <td>1</td>\n",
              "      <td>191050.39</td>\n",
              "    </tr>\n",
              "    <tr>\n",
              "      <th>3</th>\n",
              "      <td>144372.41</td>\n",
              "      <td>118671.85</td>\n",
              "      <td>383199.62</td>\n",
              "      <td>2</td>\n",
              "      <td>182901.99</td>\n",
              "    </tr>\n",
              "    <tr>\n",
              "      <th>4</th>\n",
              "      <td>142107.34</td>\n",
              "      <td>91391.77</td>\n",
              "      <td>366168.42</td>\n",
              "      <td>1</td>\n",
              "      <td>166187.94</td>\n",
              "    </tr>\n",
              "  </tbody>\n",
              "</table>\n",
              "</div>"
            ],
            "text/plain": [
              "   R&D Spend  Administration  Marketing Spend  State     Profit\n",
              "0  165349.20       136897.80        471784.10      2  192261.83\n",
              "1  162597.70       151377.59        443898.53      0  191792.06\n",
              "2  153441.51       101145.55        407934.54      1  191050.39\n",
              "3  144372.41       118671.85        383199.62      2  182901.99\n",
              "4  142107.34        91391.77        366168.42      1  166187.94"
            ]
          },
          "metadata": {
            "tags": []
          },
          "execution_count": 413
        }
      ]
    },
    {
      "cell_type": "code",
      "metadata": {
        "id": "wq4o6K3C8x5v"
      },
      "source": [
        "X= df.iloc[:,:-1]\n",
        "Y = df.iloc[:,-1]"
      ],
      "execution_count": null,
      "outputs": []
    },
    {
      "cell_type": "code",
      "metadata": {
        "id": "AxU7YlNmLG_b",
        "colab": {
          "base_uri": "https://localhost:8080/",
          "height": 203
        },
        "outputId": "ee9e9e83-07c8-437a-f360-f67cd548452d"
      },
      "source": [
        "X.head()"
      ],
      "execution_count": null,
      "outputs": [
        {
          "output_type": "execute_result",
          "data": {
            "text/html": [
              "<div>\n",
              "<style scoped>\n",
              "    .dataframe tbody tr th:only-of-type {\n",
              "        vertical-align: middle;\n",
              "    }\n",
              "\n",
              "    .dataframe tbody tr th {\n",
              "        vertical-align: top;\n",
              "    }\n",
              "\n",
              "    .dataframe thead th {\n",
              "        text-align: right;\n",
              "    }\n",
              "</style>\n",
              "<table border=\"1\" class=\"dataframe\">\n",
              "  <thead>\n",
              "    <tr style=\"text-align: right;\">\n",
              "      <th></th>\n",
              "      <th>R&amp;D Spend</th>\n",
              "      <th>Administration</th>\n",
              "      <th>Marketing Spend</th>\n",
              "      <th>State</th>\n",
              "    </tr>\n",
              "  </thead>\n",
              "  <tbody>\n",
              "    <tr>\n",
              "      <th>0</th>\n",
              "      <td>165349.20</td>\n",
              "      <td>136897.80</td>\n",
              "      <td>471784.10</td>\n",
              "      <td>2</td>\n",
              "    </tr>\n",
              "    <tr>\n",
              "      <th>1</th>\n",
              "      <td>162597.70</td>\n",
              "      <td>151377.59</td>\n",
              "      <td>443898.53</td>\n",
              "      <td>0</td>\n",
              "    </tr>\n",
              "    <tr>\n",
              "      <th>2</th>\n",
              "      <td>153441.51</td>\n",
              "      <td>101145.55</td>\n",
              "      <td>407934.54</td>\n",
              "      <td>1</td>\n",
              "    </tr>\n",
              "    <tr>\n",
              "      <th>3</th>\n",
              "      <td>144372.41</td>\n",
              "      <td>118671.85</td>\n",
              "      <td>383199.62</td>\n",
              "      <td>2</td>\n",
              "    </tr>\n",
              "    <tr>\n",
              "      <th>4</th>\n",
              "      <td>142107.34</td>\n",
              "      <td>91391.77</td>\n",
              "      <td>366168.42</td>\n",
              "      <td>1</td>\n",
              "    </tr>\n",
              "  </tbody>\n",
              "</table>\n",
              "</div>"
            ],
            "text/plain": [
              "   R&D Spend  Administration  Marketing Spend  State\n",
              "0  165349.20       136897.80        471784.10      2\n",
              "1  162597.70       151377.59        443898.53      0\n",
              "2  153441.51       101145.55        407934.54      1\n",
              "3  144372.41       118671.85        383199.62      2\n",
              "4  142107.34        91391.77        366168.42      1"
            ]
          },
          "metadata": {
            "tags": []
          },
          "execution_count": 415
        }
      ]
    },
    {
      "cell_type": "markdown",
      "metadata": {
        "id": "sJkD2HMmgju-"
      },
      "source": [
        "# Spitting the data into test and train"
      ]
    },
    {
      "cell_type": "code",
      "metadata": {
        "colab": {
          "base_uri": "https://localhost:8080/"
        },
        "id": "P6p-CxDN9o05",
        "outputId": "d3cbd6f0-9c8c-4541-d0ad-3c0ebe23c026"
      },
      "source": [
        "from sklearn.model_selection import train_test_split\n",
        "X_train, X_test, y_train, y_test = train_test_split(X, Y, test_size=0.33,random_state=0)\n",
        "print(X_train.shape, X_test.shape, y_train.shape, y_test.shape)"
      ],
      "execution_count": null,
      "outputs": [
        {
          "output_type": "stream",
          "text": [
            "(33, 4) (17, 4) (33,) (17,)\n"
          ],
          "name": "stdout"
        }
      ]
    },
    {
      "cell_type": "markdown",
      "metadata": {
        "id": "CW-ARBqEF8f8"
      },
      "source": [
        "# Initialising linear regression"
      ]
    },
    {
      "cell_type": "code",
      "metadata": {
        "id": "4qEpONgmFxos"
      },
      "source": [
        "linear_reg = LinearRegression()"
      ],
      "execution_count": null,
      "outputs": []
    },
    {
      "cell_type": "code",
      "metadata": {
        "colab": {
          "base_uri": "https://localhost:8080/"
        },
        "id": "GzOii6QZGl1f",
        "outputId": "cec12dfb-8eb8-48ca-e43e-c9a21ee2a616"
      },
      "source": [
        "linear_reg.fit(X_train,y_train)"
      ],
      "execution_count": null,
      "outputs": [
        {
          "output_type": "execute_result",
          "data": {
            "text/plain": [
              "LinearRegression(copy_X=True, fit_intercept=True, n_jobs=None, normalize=False)"
            ]
          },
          "metadata": {
            "tags": []
          },
          "execution_count": 418
        }
      ]
    },
    {
      "cell_type": "code",
      "metadata": {
        "id": "nsX2UZ5kGu8_"
      },
      "source": [
        "weights=linear_reg.coef_\n",
        "intercept = linear_reg.intercept_"
      ],
      "execution_count": null,
      "outputs": []
    },
    {
      "cell_type": "code",
      "metadata": {
        "colab": {
          "base_uri": "https://localhost:8080/"
        },
        "id": "v8kYCK9qI1Ap",
        "outputId": "3e779e6d-b3e5-47ff-fbe5-d6a478f139ab"
      },
      "source": [
        "print(weights)"
      ],
      "execution_count": null,
      "outputs": [
        {
          "output_type": "stream",
          "text": [
            "[ 0.80210159  0.05706069  0.0307273  21.34190169]\n"
          ],
          "name": "stdout"
        }
      ]
    },
    {
      "cell_type": "code",
      "metadata": {
        "colab": {
          "base_uri": "https://localhost:8080/"
        },
        "id": "H2dOWLltJAzP",
        "outputId": "b3e42a96-508c-48cc-c970-d5306c7b2f29"
      },
      "source": [
        "intercept"
      ],
      "execution_count": null,
      "outputs": [
        {
          "output_type": "execute_result",
          "data": {
            "text/plain": [
              "39243.52749703583"
            ]
          },
          "metadata": {
            "tags": []
          },
          "execution_count": 421
        }
      ]
    },
    {
      "cell_type": "markdown",
      "metadata": {
        "id": "YovNa4X9JRli"
      },
      "source": [
        "# Predicting through graph"
      ]
    },
    {
      "cell_type": "code",
      "metadata": {
        "id": "xOpzwJvHJB-W"
      },
      "source": [
        "import matplotlib.pyplot as plt\n",
        "import seaborn as sns"
      ],
      "execution_count": null,
      "outputs": []
    },
    {
      "cell_type": "code",
      "metadata": {
        "id": "aaSgzQR8KWFE"
      },
      "source": [
        "#y_train= pd.Series(y_train)"
      ],
      "execution_count": null,
      "outputs": []
    },
    {
      "cell_type": "code",
      "metadata": {
        "colab": {
          "base_uri": "https://localhost:8080/",
          "height": 214
        },
        "id": "icTKYoEuV26o",
        "outputId": "cb381c00-566c-49fa-eada-61133641b9ac"
      },
      "source": [
        "sns.pairplot(df, x_vars=['R&D Spend','Administration','Marketing Spend'], y_vars=['Profit'], hue='State' , palette='autumn')"
      ],
      "execution_count": null,
      "outputs": [
        {
          "output_type": "execute_result",
          "data": {
            "text/plain": [
              "<seaborn.axisgrid.PairGrid at 0x7f77757fa5d0>"
            ]
          },
          "metadata": {
            "tags": []
          },
          "execution_count": 424
        },
        {
          "output_type": "display_data",
          "data": {
            "image/png": "[encoded data removed]",
            "text/plain": [
              "<Figure size 582.375x180 with 3 Axes>"
            ]
          },
          "metadata": {
            "tags": [],
            "needs_background": "light"
          }
        }
      ]
    },
    {
      "cell_type": "code",
      "metadata": {
        "colab": {
          "base_uri": "https://localhost:8080/",
          "height": 623
        },
        "id": "5_VTpOOdYzt-",
        "outputId": "5f7dad35-459d-4231-fec7-f4197e412e84"
      },
      "source": [
        "fig, axarr = plt.subplots(3, figsize=(10,10))\n",
        "sns.scatterplot(y='R&D Spend', x='Profit', data=df ,hue='State', ax=axarr[0])\n",
        "sns.scatterplot(y='Administration', x='Profit', data=df, ax=axarr[1] , hue = 'State')\n",
        "sns.scatterplot(y='Marketing Spend', x='Profit', data= df, ax=axarr[2], hue='State')"
      ],
      "execution_count": null,
      "outputs": [
        {
          "output_type": "execute_result",
          "data": {
            "text/plain": [
              "<matplotlib.axes._subplots.AxesSubplot at 0x7f7775680690>"
            ]
          },
          "metadata": {
            "tags": []
          },
          "execution_count": 425
        },
        {
          "output_type": "display_data",
          "data": {
            "image/png": "[encoded data removed]",
            "text/plain": [
              "<Figure size 720x720 with 3 Axes>"
            ]
          },
          "metadata": {
            "tags": [],
            "needs_background": "light"
          }
        }
      ]
    },
    {
      "cell_type": "code",
      "metadata": {
        "colab": {
          "base_uri": "https://localhost:8080/",
          "height": 459
        },
        "id": "YYnmBduxDrYY",
        "outputId": "bfbeb7fb-ce07-4d96-8f9f-b8cefad559e9"
      },
      "source": [
        "# regression plot using seaborn\n",
        "fig = plt.figure(figsize=(10,7))\n",
        "sns.regplot(x=X_train['R&D Spend'], y=y_train, color='blue', marker='+')\n",
        "sns.regplot(x=X_train['Administration'], y=y_train , color='magenta', marker='o')\n",
        "sns.regplot(x=X_train['Marketing Spend'], y=y_train , color='orange', marker='x')"
      ],
      "execution_count": null,
      "outputs": [
        {
          "output_type": "execute_result",
          "data": {
            "text/plain": [
              "<matplotlib.axes._subplots.AxesSubplot at 0x7f7775610c10>"
            ]
          },
          "metadata": {
            "tags": []
          },
          "execution_count": 426
        },
        {
          "output_type": "display_data",
          "data": {
            "image/png": "[encoded data removed]",
            "text/plain": [
              "<Figure size 720x504 with 1 Axes>"
            ]
          },
          "metadata": {
            "tags": [],
            "needs_background": "light"
          }
        }
      ]
    },
    {
      "cell_type": "markdown",
      "metadata": {
        "id": "MSVwRv6sgebe"
      },
      "source": [
        "# Feature Scaling"
      ]
    },
    {
      "cell_type": "code",
      "metadata": {
        "id": "BU2H36f4geKd"
      },
      "source": [
        "from sklearn.preprocessing import StandardScaler\n",
        "sc = StandardScaler()\n",
        "X_train = sc.fit_transform(X_train)\n",
        "X_test = sc.fit_transform(X_test)"
      ],
      "execution_count": null,
      "outputs": []
    },
    {
      "cell_type": "markdown",
      "metadata": {
        "id": "v3BcAMhwbD8I"
      },
      "source": [
        "# Predicting "
      ]
    },
    {
      "cell_type": "code",
      "metadata": {
        "id": "ZjMBRM_7abGV"
      },
      "source": [
        "y_pred = linear_reg.predict(X_test)"
      ],
      "execution_count": null,
      "outputs": []
    },
    {
      "cell_type": "code",
      "metadata": {
        "colab": {
          "base_uri": "https://localhost:8080/"
        },
        "id": "YH1JxALUfy_h",
        "outputId": "7cdfea3f-b7d5-4644-d5b8-3de7bc760db2"
      },
      "source": [
        "score = linear_reg.score(X_test,y_test)\n",
        "score"
      ],
      "execution_count": null,
      "outputs": [
        {
          "output_type": "execute_result",
          "data": {
            "text/plain": [
              "-6.785087470595581"
            ]
          },
          "metadata": {
            "tags": []
          },
          "execution_count": 429
        }
      ]
    },
    {
      "cell_type": "markdown",
      "metadata": {
        "id": "dh0Eow4sKwOv"
      },
      "source": [
        "# Problem 2"
      ]
    },
    {
      "cell_type": "markdown",
      "metadata": {
        "id": "mcIEVfpgOgXw"
      },
      "source": [
        "Create a DataFrame in python and make Date column as index:\n",
        "![image.png](data:image/png;base64,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)"
      ]
    },
    {
      "cell_type": "code",
      "metadata": {
        "id": "yaPhhQ7OKyyZ"
      },
      "source": [
        "data ={'Temperature':[20,18,19,20],\n",
        "                    'Rainfall':[1.1, 0.6, 0.9, 1.0],\n",
        "                    'Mosquitoes':[150 ,217, 153 ,158]}\n",
        "\n",
        "df = pd.DataFrame(data, index =['01/01/2020', '02/01/2020', '03/01/2020' ,'04/01/2020'])"
      ],
      "execution_count": null,
      "outputs": []
    },
    {
      "cell_type": "code",
      "metadata": {
        "colab": {
          "base_uri": "https://localhost:8080/",
          "height": 172
        },
        "id": "m00JIW8OMe1Q",
        "outputId": "f558d875-9f51-449a-e84b-782f2eb9ca89"
      },
      "source": [
        "df.head()"
      ],
      "execution_count": null,
      "outputs": [
        {
          "output_type": "execute_result",
          "data": {
            "text/html": [
              "<div>\n",
              "<style scoped>\n",
              "    .dataframe tbody tr th:only-of-type {\n",
              "        vertical-align: middle;\n",
              "    }\n",
              "\n",
              "    .dataframe tbody tr th {\n",
              "        vertical-align: top;\n",
              "    }\n",
              "\n",
              "    .dataframe thead th {\n",
              "        text-align: right;\n",
              "    }\n",
              "</style>\n",
              "<table border=\"1\" class=\"dataframe\">\n",
              "  <thead>\n",
              "    <tr style=\"text-align: right;\">\n",
              "      <th></th>\n",
              "      <th>Temperature</th>\n",
              "      <th>Rainfall</th>\n",
              "      <th>Mosquitoes</th>\n",
              "    </tr>\n",
              "  </thead>\n",
              "  <tbody>\n",
              "    <tr>\n",
              "      <th>01/01/2020</th>\n",
              "      <td>20</td>\n",
              "      <td>1.1</td>\n",
              "      <td>150</td>\n",
              "    </tr>\n",
              "    <tr>\n",
              "      <th>02/01/2020</th>\n",
              "      <td>18</td>\n",
              "      <td>0.6</td>\n",
              "      <td>217</td>\n",
              "    </tr>\n",
              "    <tr>\n",
              "      <th>03/01/2020</th>\n",
              "      <td>19</td>\n",
              "      <td>0.9</td>\n",
              "      <td>153</td>\n",
              "    </tr>\n",
              "    <tr>\n",
              "      <th>04/01/2020</th>\n",
              "      <td>20</td>\n",
              "      <td>1.0</td>\n",
              "      <td>158</td>\n",
              "    </tr>\n",
              "  </tbody>\n",
              "</table>\n",
              "</div>"
            ],
            "text/plain": [
              "            Temperature  Rainfall  Mosquitoes\n",
              "01/01/2020           20       1.1         150\n",
              "02/01/2020           18       0.6         217\n",
              "03/01/2020           19       0.9         153\n",
              "04/01/2020           20       1.0         158"
            ]
          },
          "metadata": {
            "tags": []
          },
          "execution_count": 431
        }
      ]
    },
    {
      "cell_type": "markdown",
      "metadata": {
        "id": "ixA1KNKfObkw"
      },
      "source": [
        "Code to return the Temperature and Rainfall of rows 2 and 3"
      ]
    },
    {
      "cell_type": "code",
      "metadata": {
        "colab": {
          "base_uri": "https://localhost:8080/",
          "height": 110
        },
        "id": "QYPNZAMuM_Dr",
        "outputId": "bd21292c-b2b1-4891-f1dc-13442fc378ad"
      },
      "source": [
        "df.iloc[1:3,0:2]"
      ],
      "execution_count": null,
      "outputs": [
        {
          "output_type": "execute_result",
          "data": {
            "text/html": [
              "<div>\n",
              "<style scoped>\n",
              "    .dataframe tbody tr th:only-of-type {\n",
              "        vertical-align: middle;\n",
              "    }\n",
              "\n",
              "    .dataframe tbody tr th {\n",
              "        vertical-align: top;\n",
              "    }\n",
              "\n",
              "    .dataframe thead th {\n",
              "        text-align: right;\n",
              "    }\n",
              "</style>\n",
              "<table border=\"1\" class=\"dataframe\">\n",
              "  <thead>\n",
              "    <tr style=\"text-align: right;\">\n",
              "      <th></th>\n",
              "      <th>Temperature</th>\n",
              "      <th>Rainfall</th>\n",
              "    </tr>\n",
              "  </thead>\n",
              "  <tbody>\n",
              "    <tr>\n",
              "      <th>02/01/2020</th>\n",
              "      <td>18</td>\n",
              "      <td>0.6</td>\n",
              "    </tr>\n",
              "    <tr>\n",
              "      <th>03/01/2020</th>\n",
              "      <td>19</td>\n",
              "      <td>0.9</td>\n",
              "    </tr>\n",
              "  </tbody>\n",
              "</table>\n",
              "</div>"
            ],
            "text/plain": [
              "            Temperature  Rainfall\n",
              "02/01/2020           18       0.6\n",
              "03/01/2020           19       0.9"
            ]
          },
          "metadata": {
            "tags": []
          },
          "execution_count": 432
        }
      ]
    },
    {
      "cell_type": "markdown",
      "metadata": {
        "id": "XIf4jk85OYaV"
      },
      "source": [
        "Code to return max temperature from Temperature column."
      ]
    },
    {
      "cell_type": "code",
      "metadata": {
        "colab": {
          "base_uri": "https://localhost:8080/"
        },
        "id": "LB7kLe6JN9C7",
        "outputId": "08183b91-0563-4542-e45f-022505231479"
      },
      "source": [
        "df['Temperature'].max()"
      ],
      "execution_count": null,
      "outputs": [
        {
          "output_type": "execute_result",
          "data": {
            "text/plain": [
              "20"
            ]
          },
          "metadata": {
            "tags": []
          },
          "execution_count": 433
        }
      ]
    },
    {
      "cell_type": "markdown",
      "metadata": {
        "id": "g8t47ZocQgCc"
      },
      "source": [
        "Code to return min rainfall from Rainfall column."
      ]
    },
    {
      "cell_type": "code",
      "metadata": {
        "colab": {
          "base_uri": "https://localhost:8080/"
        },
        "id": "7CVc8rZ2OU9F",
        "outputId": "b92ec18e-6e2b-43c4-e658-f25d621d6158"
      },
      "source": [
        "df['Rainfall'].min()"
      ],
      "execution_count": null,
      "outputs": [
        {
          "output_type": "execute_result",
          "data": {
            "text/plain": [
              "0.6"
            ]
          },
          "metadata": {
            "tags": []
          },
          "execution_count": 434
        }
      ]
    },
    {
      "cell_type": "markdown",
      "metadata": {
        "id": "7UD-e0apRbK4"
      },
      "source": [
        "Average from Mosquitos column."
      ]
    },
    {
      "cell_type": "code",
      "metadata": {
        "colab": {
          "base_uri": "https://localhost:8080/"
        },
        "id": "YAG2STxhQ2Lz",
        "outputId": "482d0f3d-5cc2-4a29-9518-0e00e1a9f10f"
      },
      "source": [
        "df['Mosquitoes'].mean()"
      ],
      "execution_count": null,
      "outputs": [
        {
          "output_type": "execute_result",
          "data": {
            "text/plain": [
              "169.5"
            ]
          },
          "metadata": {
            "tags": []
          },
          "execution_count": 435
        }
      ]
    }
  ]
}